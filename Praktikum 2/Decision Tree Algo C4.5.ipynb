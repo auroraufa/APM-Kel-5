{
 "cells": [
  {
   "cell_type": "code",
   "execution_count": 1,
   "id": "fbeaebde",
   "metadata": {},
   "outputs": [],
   "source": [
    "from sklearn.tree import DecisionTreeClassifier\n",
    "from sklearn import datasets\n",
    "import matplotlib.pyplot as plt"
   ]
  },
  {
   "cell_type": "code",
   "execution_count": 5,
   "id": "22ed5cbc",
   "metadata": {},
   "outputs": [],
   "source": [
    "#load dataset dari library scikit learn\n",
    "iris = datasets.load_iris()\n",
    "features = iris['data']\n",
    "target = iris['target']"
   ]
  },
  {
   "cell_type": "code",
   "execution_count": 6,
   "id": "88d82a80",
   "metadata": {},
   "outputs": [],
   "source": [
    "#membuat objek model decision tree\n",
    "clf = DecisionTreeClassifier(random_state=0, max_depth=None,\n",
    "                            min_samples_split=2, min_samples_leaf=1,\n",
    "                            min_weight_fraction_leaf=0,\n",
    "                            max_leaf_nodes=None,\n",
    "                            min_impurity_decrease=0) "
   ]
  },
  {
   "cell_type": "code",
   "execution_count": 7,
   "id": "5d5826a4",
   "metadata": {},
   "outputs": [],
   "source": [
    "#training model decision tree\n",
    "model = clf.fit(features, target) "
   ]
  },
  {
   "cell_type": "code",
   "execution_count": 8,
   "id": "616fbef5",
   "metadata": {},
   "outputs": [
    {
     "data": {
      "text/plain": [
       "array([[0., 1., 0.]])"
      ]
     },
     "execution_count": 8,
     "metadata": {},
     "output_type": "execute_result"
    }
   ],
   "source": [
    "#mengambil sampel obeservasi dan membuat prediksi\n",
    "#sampel berupa data dimensi kelopak\n",
    "#fungsi predict() = memeriksa kelas yang dimiliki oleh dataset\n",
    "#fungsi predict_proba() = memeriksa probabilitas kelas dari prediksi tersebut\n",
    "observation = [[5, 4, 3, 2]]\n",
    "model.predict(observation)\n",
    "model.predict_proba(observation)"
   ]
  },
  {
   "cell_type": "code",
   "execution_count": 15,
   "id": "453b69d2",
   "metadata": {},
   "outputs": [
    {
     "data": {
      "text/plain": [
       "True"
      ]
     },
     "execution_count": 15,
     "metadata": {},
     "output_type": "execute_result"
    }
   ],
   "source": [
    "#membuat grafik visuaslisasi decision tree\n",
    "import pydotplus\n",
    "from sklearn import tree\n",
    "dot_data = tree.export_graphviz(clf, out_file=None,\n",
    "                               feature_names=iris['feature_names'],\n",
    "                               class_names=iris['target_names'])\n",
    "from IPython.display import Image\n",
    "graph = pydotplus.graph_from_dot_data(dot_data)\n",
    "Image(graph.create_png())\n",
    "graph.write_png('iris_dcs.png')"
   ]
  },
  {
   "cell_type": "code",
   "execution_count": null,
   "id": "95dacf3b",
   "metadata": {},
   "outputs": [],
   "source": []
  }
 ],
 "metadata": {
  "kernelspec": {
   "display_name": "Python 3",
   "language": "python",
   "name": "python3"
  },
  "language_info": {
   "codemirror_mode": {
    "name": "ipython",
    "version": 3
   },
   "file_extension": ".py",
   "mimetype": "text/x-python",
   "name": "python",
   "nbconvert_exporter": "python",
   "pygments_lexer": "ipython3",
   "version": "3.8.8"
  }
 },
 "nbformat": 4,
 "nbformat_minor": 5
}
