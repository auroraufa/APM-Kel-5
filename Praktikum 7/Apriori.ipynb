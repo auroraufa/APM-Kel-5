{
 "cells": [
  {
   "cell_type": "code",
   "execution_count": 3,
   "id": "01da3b08",
   "metadata": {},
   "outputs": [],
   "source": [
    "import pandas as pd\n",
    "import numpy as np\n",
    "from apyori import apriori"
   ]
  },
  {
   "cell_type": "code",
   "execution_count": 8,
   "id": "785dac5e",
   "metadata": {},
   "outputs": [
    {
     "data": {
      "text/html": [
       "<div>\n",
       "<style scoped>\n",
       "    .dataframe tbody tr th:only-of-type {\n",
       "        vertical-align: middle;\n",
       "    }\n",
       "\n",
       "    .dataframe tbody tr th {\n",
       "        vertical-align: top;\n",
       "    }\n",
       "\n",
       "    .dataframe thead th {\n",
       "        text-align: right;\n",
       "    }\n",
       "</style>\n",
       "<table border=\"1\" class=\"dataframe\">\n",
       "  <thead>\n",
       "    <tr style=\"text-align: right;\">\n",
       "      <th></th>\n",
       "      <th>Tanggal</th>\n",
       "      <th>Items</th>\n",
       "    </tr>\n",
       "  </thead>\n",
       "  <tbody>\n",
       "    <tr>\n",
       "      <th>0</th>\n",
       "      <td>2021-04-02</td>\n",
       "      <td>MILK,BREAD,BISCUIT</td>\n",
       "    </tr>\n",
       "    <tr>\n",
       "      <th>1</th>\n",
       "      <td>2021-04-09</td>\n",
       "      <td>BREAD,MILK,BISCUIT,CORNFLAKES</td>\n",
       "    </tr>\n",
       "    <tr>\n",
       "      <th>2</th>\n",
       "      <td>2021-04-09</td>\n",
       "      <td>BREAD,TEA,BOURNVITA</td>\n",
       "    </tr>\n",
       "    <tr>\n",
       "      <th>3</th>\n",
       "      <td>2021-04-09</td>\n",
       "      <td>JAM,MAGGI,BREAD,MILK</td>\n",
       "    </tr>\n",
       "    <tr>\n",
       "      <th>4</th>\n",
       "      <td>2021-04-06</td>\n",
       "      <td>MAGGI,TEA,BISCUIT</td>\n",
       "    </tr>\n",
       "  </tbody>\n",
       "</table>\n",
       "</div>"
      ],
      "text/plain": [
       "     Tanggal                          Items\n",
       "0 2021-04-02             MILK,BREAD,BISCUIT\n",
       "1 2021-04-09  BREAD,MILK,BISCUIT,CORNFLAKES\n",
       "2 2021-04-09            BREAD,TEA,BOURNVITA\n",
       "3 2021-04-09           JAM,MAGGI,BREAD,MILK\n",
       "4 2021-04-06              MAGGI,TEA,BISCUIT"
      ]
     },
     "execution_count": 8,
     "metadata": {},
     "output_type": "execute_result"
    }
   ],
   "source": [
    "df= pd.read_excel('GroceryStoreDataSet.xlsx')\n",
    "df.head()"
   ]
  },
  {
   "cell_type": "code",
   "execution_count": 9,
   "id": "acc4885d",
   "metadata": {},
   "outputs": [],
   "source": [
    "# Membuang kolom Tanggal\n",
    "data=df.drop(['Tanggal'],axis=1)"
   ]
  },
  {
   "cell_type": "code",
   "execution_count": 10,
   "id": "1f829d87",
   "metadata": {},
   "outputs": [
    {
     "data": {
      "text/plain": [
       "[['MILK', 'BREAD', 'BISCUIT'],\n",
       " ['BREAD', 'MILK', 'BISCUIT', 'CORNFLAKES'],\n",
       " ['BREAD', 'TEA', 'BOURNVITA'],\n",
       " ['JAM', 'MAGGI', 'BREAD', 'MILK'],\n",
       " ['MAGGI', 'TEA', 'BISCUIT'],\n",
       " ['BREAD', 'TEA', 'BOURNVITA'],\n",
       " ['MAGGI', 'TEA', 'CORNFLAKES'],\n",
       " ['MAGGI', 'BREAD', 'TEA', 'BISCUIT'],\n",
       " ['JAM', 'MAGGI', 'BREAD', 'TEA'],\n",
       " ['BREAD', 'MILK'],\n",
       " ['COFFEE', 'COCK', 'BISCUIT', 'CORNFLAKES'],\n",
       " ['COFFEE', 'COCK', 'BISCUIT', 'CORNFLAKES'],\n",
       " ['COFFEE', 'SUGER', 'BOURNVITA'],\n",
       " ['BREAD', 'COFFEE', 'COCK'],\n",
       " ['BREAD', 'SUGER', 'BISCUIT'],\n",
       " ['COFFEE', 'SUGER', 'CORNFLAKES'],\n",
       " ['BREAD', 'SUGER', 'BOURNVITA'],\n",
       " ['BREAD', 'COFFEE', 'SUGER'],\n",
       " ['BREAD', 'COFFEE', 'SUGER'],\n",
       " ['TEA', 'MILK', 'COFFEE', 'CORNFLAKES']]"
      ]
     },
     "execution_count": 10,
     "metadata": {},
     "output_type": "execute_result"
    }
   ],
   "source": [
    "# Membuat list dalam list dari transaksi pembelian barang\n",
    "records = []\n",
    "for i in range(data.shape[0]):\n",
    "    records.append([str(data.values[i,j]).split(',') for j in range(data.shape[1])])\n",
    "\n",
    "trx = [[] for trx in range(len(records))]\n",
    "for i in range(len(records)):\n",
    "    for j in records[i][0]:\n",
    "        trx[i].append(j)\n",
    "trx"
   ]
  },
  {
   "cell_type": "code",
   "execution_count": 11,
   "id": "11cc6595",
   "metadata": {},
   "outputs": [],
   "source": [
    "# Menggunakan fungsi apriori untuk membuat asosiasi\n",
    "association_rules = apriori(trx, min_support=0.14, min_confidence=0.80,min_lift=1)\n",
    "# Membuat list hasil dari algoritma apriori\n",
    "association_results = association_rules"
   ]
  },
  {
   "cell_type": "code",
   "execution_count": 12,
   "id": "656f84d1",
   "metadata": {},
   "outputs": [
    {
     "data": {
      "text/html": [
       "<div>\n",
       "<style scoped>\n",
       "    .dataframe tbody tr th:only-of-type {\n",
       "        vertical-align: middle;\n",
       "    }\n",
       "\n",
       "    .dataframe tbody tr th {\n",
       "        vertical-align: top;\n",
       "    }\n",
       "\n",
       "    .dataframe thead th {\n",
       "        text-align: right;\n",
       "    }\n",
       "</style>\n",
       "<table border=\"1\" class=\"dataframe\">\n",
       "  <thead>\n",
       "    <tr style=\"text-align: right;\">\n",
       "      <th></th>\n",
       "      <th>Rule</th>\n",
       "      <th>Support</th>\n",
       "      <th>Confidence</th>\n",
       "    </tr>\n",
       "  </thead>\n",
       "  <tbody>\n",
       "    <tr>\n",
       "      <th>0</th>\n",
       "      <td>['MILK'] -&gt; ['BREAD']</td>\n",
       "      <td>20.0%</td>\n",
       "      <td>80.0%</td>\n",
       "    </tr>\n",
       "    <tr>\n",
       "      <th>1</th>\n",
       "      <td>['COCK'] -&gt; ['COFFEE']</td>\n",
       "      <td>15.0%</td>\n",
       "      <td>100.0%</td>\n",
       "    </tr>\n",
       "    <tr>\n",
       "      <th>2</th>\n",
       "      <td>['MAGGI'] -&gt; ['TEA']</td>\n",
       "      <td>20.0%</td>\n",
       "      <td>80.0%</td>\n",
       "    </tr>\n",
       "  </tbody>\n",
       "</table>\n",
       "</div>"
      ],
      "text/plain": [
       "                     Rule Support Confidence\n",
       "0   ['MILK'] -> ['BREAD']   20.0%      80.0%\n",
       "1  ['COCK'] -> ['COFFEE']   15.0%     100.0%\n",
       "2    ['MAGGI'] -> ['TEA']   20.0%      80.0%"
      ]
     },
     "execution_count": 12,
     "metadata": {},
     "output_type": "execute_result"
    }
   ],
   "source": [
    "# Menampilkan hasil asosiasi dari item \n",
    "pd.set_option('max_colwidth', 1000)\n",
    "Result=pd.DataFrame(columns=['Rule','Support','Confidence'])\n",
    "for item in association_results:\n",
    "    pair = item[2]\n",
    "    for i in pair:\n",
    "        items = str([x for x in i[0]])\n",
    "        if i[3]!=1:\n",
    "            Result=Result.append({\n",
    "                'Rule':str([x for x in i[0]])+ \" -> \" +str([x for x in i[1]]),\n",
    "                'Support':str(round(item[1]*100,2))+'%',\n",
    "                'Confidence':str(round(i[2] *100,2))+'%'\n",
    "                },ignore_index=True)\n",
    "Result"
   ]
  },
  {
   "cell_type": "code",
   "execution_count": null,
   "id": "6a0aa6ea",
   "metadata": {},
   "outputs": [],
   "source": []
  }
 ],
 "metadata": {
  "kernelspec": {
   "display_name": "Python 3",
   "language": "python",
   "name": "python3"
  },
  "language_info": {
   "codemirror_mode": {
    "name": "ipython",
    "version": 3
   },
   "file_extension": ".py",
   "mimetype": "text/x-python",
   "name": "python",
   "nbconvert_exporter": "python",
   "pygments_lexer": "ipython3",
   "version": "3.8.8"
  }
 },
 "nbformat": 4,
 "nbformat_minor": 5
}
